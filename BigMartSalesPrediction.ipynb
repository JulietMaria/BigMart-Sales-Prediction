{
 "cells": [
  {
   "cell_type": "code",
   "execution_count": 2,
   "metadata": {
    "colab": {},
    "colab_type": "code",
    "id": "iBOllzMIUI8d"
   },
   "outputs": [],
   "source": [
    "import pandas as pd\n",
    "import numpy as np\n",
    "import matplotlib.pyplot as plt\n",
    "from sklearn.model_selection import train_test_split \n",
    "from sklearn.linear_model import LinearRegression\n",
    "from sklearn import metrics\n",
    "import seaborn as sns"
   ]
  },
  {
   "cell_type": "code",
   "execution_count": 3,
   "metadata": {
    "colab": {},
    "colab_type": "code",
    "id": "5gGdQhwwVvG9"
   },
   "outputs": [],
   "source": [
    "train_data = pd.read_csv('Train.csv')\n",
    "test_data = pd.read_csv('Test.csv')\n",
    "\n",
    "train_data.head() # display first 10 rows\n",
    "test_data.apply(lambda x: sum(x.isnull()))  #to count the number of rows with missing values in a pandas DataFrame  //Finding count of distinct elements in DataFrame in each column\n",
    "\n",
    "test_data['Item_Fat_Content'].unique()\n",
    "\n",
    "# combining Item_Fat_Content misspelled\n",
    "train_data['Item_Fat_Content'].replace(['low fat','LF','reg'],['Low Fat','Low Fat','Regular'],inplace = True)\n",
    "test_data['Item_Fat_Content'].replace(['low fat','LF','reg'],['Low Fat','Low Fat','Regular'],inplace = True)\n",
    "\n",
    "# creating new column num_years\n",
    "train_data['num_years'] = train_data['Outlet_Establishment_Year'].apply(lambda x: 2013 - x) \n",
    "test_data['num_years'] = test_data['Outlet_Establishment_Year'].apply(lambda x: 2013 - x)\n",
    "train_data['Item_Type'].unique()  \n",
    "full_data = [train_data, test_data]\n",
    "# filling null values\n",
    "for data in full_data:\n",
    "    data['Item_Weight'].fillna(data['Item_Weight'].mean(),inplace = True)\n",
    "    data['Outlet_Size'].fillna('Medium',inplace = True)\n",
    "col = ['Item_Fat_Content', 'Item_Type', 'Outlet_Size', 'Outlet_Location_Type', 'Outlet_Type']\n",
    "# handling catagorical variables\n",
    "train_datar = pd.get_dummies(train_data, columns = col, drop_first = True)\n",
    "test_datar = pd.get_dummies(test_data, columns = col,drop_first = True)\n",
    "feat_cols = ['Item_Weight', 'Item_Visibility', 'Item_MRP', 'num_years',\n",
    "       'Item_Fat_Content_Regular', 'Item_Type_Breads', 'Item_Type_Breakfast',\n",
    "       'Item_Type_Canned', 'Item_Type_Dairy', 'Item_Type_Frozen Foods',\n",
    "       'Item_Type_Fruits and Vegetables', 'Item_Type_Hard Drinks',\n",
    "       'Item_Type_Health and Hygiene', 'Item_Type_Household', 'Item_Type_Meat',\n",
    "       'Item_Type_Others', 'Item_Type_Seafood', 'Item_Type_Snack Foods',\n",
    "       'Item_Type_Soft Drinks', 'Item_Type_Starchy Foods',\n",
    "       'Outlet_Size_Medium', 'Outlet_Size_Small',\n",
    "       'Outlet_Location_Type_Tier 2', 'Outlet_Location_Type_Tier 3',\n",
    "       'Outlet_Type_Supermarket Type1', 'Outlet_Type_Supermarket Type2',\n",
    "       'Outlet_Type_Supermarket Type3']"
   ]
  },
  {
   "cell_type": "code",
   "execution_count": 4,
   "metadata": {
    "colab": {},
    "colab_type": "code",
    "id": "fxt5S5yAWV2h"
   },
   "outputs": [],
   "source": [
    "X = train_datar[feat_cols]\n",
    "y = train_datar['Item_Outlet_Sales']\n",
    "from sklearn.model_selection import train_test_split\n",
    "X_train, X_test, y_train, y_test = train_test_split(X, y, test_size = 0.2,random_state = 0)"
   ]
  },
  {
   "cell_type": "code",
   "execution_count": 5,
   "metadata": {
    "colab": {
     "base_uri": "https://localhost:8080/",
     "height": 34
    },
    "colab_type": "code",
    "id": "GDoXUpNRWoVR",
    "outputId": "f8e66500-83eb-4c0f-a5e6-4e133de6b6e5"
   },
   "outputs": [
    {
     "data": {
      "text/plain": [
       "LinearRegression(copy_X=True, fit_intercept=True, n_jobs=None,\n",
       "         normalize=False)"
      ]
     },
     "execution_count": 5,
     "metadata": {},
     "output_type": "execute_result"
    }
   ],
   "source": [
    "\n",
    "regressor = LinearRegression()  \n",
    "regressor.fit(X_train, y_train) #training the algorithm"
   ]
  },
  {
   "cell_type": "code",
   "execution_count": 6,
   "metadata": {
    "colab": {
     "base_uri": "https://localhost:8080/",
     "height": 151
    },
    "colab_type": "code",
    "id": "3dJsX1gqYZA3",
    "outputId": "9763ee91-20d5-4b85-e988-321860d847bf"
   },
   "outputs": [
    {
     "name": "stdout",
     "output_type": "stream",
     "text": [
      "369.98316325787414\n",
      "[-1.54814382e+00 -3.66015066e+02  1.55481942e+01 -4.41244091e+01\n",
      "  3.35482151e+01 -6.05163082e+01 -9.18259198e-01  1.72049916e+01\n",
      " -1.17688759e+02 -6.78248439e+01 -1.11561361e+01 -1.38970014e+01\n",
      " -4.93453362e+01 -6.57961646e+01 -2.04703488e+01 -4.04276503e+01\n",
      "  1.80359718e+02 -2.61092381e+01 -7.58745459e+01  7.05044404e+01\n",
      " -9.63625632e+02 -8.96679662e+02 -2.48534094e+02 -4.84281851e+02\n",
      "  1.41035296e+03  1.11228807e+03  3.89694547e+03]\n"
     ]
    }
   ],
   "source": [
    "print(regressor.intercept_)\n",
    "print(regressor.coef_)"
   ]
  },
  {
   "cell_type": "code",
   "execution_count": 7,
   "metadata": {
    "colab": {
     "base_uri": "https://localhost:8080/",
     "height": 269
    },
    "colab_type": "code",
    "id": "nN4Mld26WE-y",
    "outputId": "ee7c2a1c-50fd-4ebe-d82a-40822af5b0b2"
   },
   "outputs": [
    {
     "name": "stdout",
     "output_type": "stream",
     "text": [
      "          Actual    Predicted\n",
      "0      1426.1436  2458.963755\n",
      "1      1201.7690  2537.684596\n",
      "2      1836.2764  2245.806396\n",
      "3      2410.8618  2445.007809\n",
      "4      1549.9824  3104.809094\n",
      "5      3169.2080  3656.096188\n",
      "6      2036.6822  2941.961687\n",
      "7       824.9262  1888.477285\n",
      "8       378.1744  1150.998660\n",
      "9      1573.9512  1812.231870\n",
      "10     2474.7786  1893.165507\n",
      "11      101.8674   293.517015\n",
      "12      894.8352  1482.761033\n",
      "13     1491.3920  2446.230021\n",
      "14     1390.1904  2018.362935\n",
      "15     1707.7770  1434.421275\n",
      "16     1853.5872  2520.377840\n",
      "17     2404.8696  2840.731936\n",
      "18     5528.1374  3954.771674\n",
      "19    12117.5600  5353.579882\n",
      "20     4767.1280  3833.149659\n",
      "21      185.7582  1298.259590\n",
      "22      187.0898  1170.317729\n",
      "23      772.3280  1672.810386\n",
      "24     1324.2762  2130.652962\n",
      "25     2036.6822  1707.609351\n",
      "26     6574.7750  5579.993668\n",
      "27     5285.1204  4107.248946\n",
      "28      773.6596   958.195685\n",
      "29     6615.3888  3875.040047\n",
      "...          ...          ...\n",
      "1675   2993.4368  2979.593274\n",
      "1676    319.5840  1638.356289\n",
      "1677   2375.5744  2619.430452\n",
      "1678   3914.9040  2984.256601\n",
      "1679   1960.7810  1703.096269\n",
      "1680   3364.9532  2914.795707\n",
      "1681    517.3266   827.389592\n",
      "1682    276.9728   718.999357\n",
      "1683   1278.3360  2512.742156\n",
      "1684   4247.8040  3485.193209\n",
      "1685   3004.0896  2109.827467\n",
      "1686   2554.0088  1551.712135\n",
      "1687   3866.9664  4280.657945\n",
      "1688   3981.4840  4673.322691\n",
      "1689   2756.4120  4360.866168\n",
      "1690   2048.6666  1652.945274\n",
      "1691   2356.9320  1917.019933\n",
      "1692   5972.2260  5151.711435\n",
      "1693   6769.8544  4948.351836\n",
      "1694   5470.8786  4115.174028\n",
      "1695   1384.8640  1847.661410\n",
      "1696   3572.0170  3460.500991\n",
      "1697   1597.9200  2387.057040\n",
      "1698   3200.5006  4159.044822\n",
      "1699   3202.4980  3856.149774\n",
      "1700   3235.7880  1666.950113\n",
      "1701    555.2772   990.116651\n",
      "1702   2885.5772  4263.614387\n",
      "1703    218.3824 -1058.626578\n",
      "1704   5478.2024  5418.568931\n",
      "\n",
      "[1705 rows x 2 columns]\n"
     ]
    }
   ],
   "source": [
    "y_pred = regressor.predict(X_test)\n",
    "new_pred_series=pd.Series(y_pred)\n",
    "df = pd.DataFrame({'Actual': y_test.values.flatten(), 'Predicted': new_pred_series.values.flatten()})\n",
    "print(df)"
   ]
  },
  {
   "cell_type": "code",
   "execution_count": 8,
   "metadata": {
    "colab": {
     "base_uri": "https://localhost:8080/",
     "height": 594
    },
    "colab_type": "code",
    "id": "YKfhxUA1ZWbP",
    "outputId": "6e554af2-34d7-4450-e348-f11a506ef8fc"
   },
   "outputs": [
    {
     "data": {
      "image/png": "[encoded data removed]",
      "text/plain": [
       "<Figure size 1152x720 with 1 Axes>"
      ]
     },
     "metadata": {
      "needs_background": "light"
     },
     "output_type": "display_data"
    }
   ],
   "source": [
    "df1 = df.head(30)\n",
    "df1.plot(kind='bar',figsize=(16,10))\n",
    "plt.grid(which='major', linestyle='-', linewidth='0.5', color='green')\n",
    "plt.grid(which='minor', linestyle=':', linewidth='0.5', color='black')\n",
    "plt.show()"
   ]
  },
  {
   "cell_type": "code",
   "execution_count": 9,
   "metadata": {
    "colab": {
     "base_uri": "https://localhost:8080/",
     "height": 67
    },
    "colab_type": "code",
    "id": "uNTQm-XeZtg3",
    "outputId": "fadb464d-0bd8-4bca-fe18-449784490bf9"
   },
   "outputs": [
    {
     "name": "stdout",
     "output_type": "stream",
     "text": [
      "Mean Absolute Error: 852.4329537092061\n",
      "Mean Squared Error: 1281773.980313162\n",
      "Root Mean Squared Error: 1132.154574390424\n"
     ]
    }
   ],
   "source": [
    "print('Mean Absolute Error:', metrics.mean_absolute_error(y_test, y_pred))  \n",
    "print('Mean Squared Error:', metrics.mean_squared_error(y_test, y_pred))  \n",
    "print('Root Mean Squared Error:', np.sqrt(metrics.mean_squared_error(y_test, y_pred)))"
   ]
  },
  {
   "cell_type": "code",
   "execution_count": null,
   "metadata": {},
   "outputs": [],
   "source": []
  }
 ],
 "metadata": {
  "colab": {
   "collapsed_sections": [],
   "name": "bigmartsales",
   "provenance": [],
   "toc_visible": true
  },
  "kernelspec": {
   "display_name": "Python 3",
   "language": "python",
   "name": "python3"
  },
  "language_info": {
   "codemirror_mode": {
    "name": "ipython",
    "version": 3
   },
   "file_extension": ".py",
   "mimetype": "text/x-python",
   "name": "python",
   "nbconvert_exporter": "python",
   "pygments_lexer": "ipython3",
   "version": "3.7.3"
  }
 },
 "nbformat": 4,
 "nbformat_minor": 1
}
